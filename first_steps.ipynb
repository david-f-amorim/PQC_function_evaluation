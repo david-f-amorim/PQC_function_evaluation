{
 "cells": [
  {
   "cell_type": "code",
   "execution_count": 87,
   "metadata": {},
   "outputs": [
    {
     "data": {
      "text/plain": [
       "168"
      ]
     },
     "execution_count": 87,
     "metadata": {},
     "output_type": "execute_result"
    }
   ],
   "source": [
    "import numpy as np \n",
    "from ampl_tools import R_generate_network \n",
    "\n",
    "circ = R_generate_network(6,8)\n",
    "num_CX = dict(circ.decompose(reps=4).count_ops())[\"cx\"]\n",
    "num_gates = num_CX + dict(circ.decompose(reps=4).count_ops())[\"u\"]\n",
    "\n",
    "weights = np.load(\"ampl_outputs/weights_6_8_800_x76_MSE_40_168_.npy\")\n",
    "\n",
    "len(weights)\n",
    "\n",
    "num_CX"
   ]
  },
  {
   "cell_type": "code",
   "execution_count": 66,
   "metadata": {},
   "outputs": [
    {
     "data": {
      "image/png": "[encoded data removed]",
      "text/plain": [
       "<Figure size 432x288 with 1 Axes>"
      ]
     },
     "metadata": {
      "needs_background": "light"
     },
     "output_type": "display_data"
    },
    {
     "name": "stdout",
     "output_type": "stream",
     "text": [
      "[0.00856671 0.01122041 0.00683946 0.009252   0.00539305 0.00818432\n",
      " 0.00337288 0.00592851 0.01214648 0.01452371 0.01081793 0.01293778\n",
      " 0.00799417 0.01052327 0.00634823 0.00862509 0.00841133 0.01106717\n",
      " 0.00669588 0.00911044 0.00522852 0.00802146 0.00321984 0.00577704\n",
      " 0.01200022 0.01437394 0.01068412 0.01280036 0.00783774 0.01036279\n",
      " 0.00620396 0.00847668 0.00650404 0.00888364 0.00546849 0.00760627\n",
      " 0.00321474 0.00573775 0.00188528 0.00417186 0.01031423 0.01240261\n",
      " 0.00967868 0.01150898 0.00604702 0.00829282 0.00509312 0.00708583\n",
      " 0.00636232 0.00874394 0.00533857 0.00747826 0.00306358 0.00558816\n",
      " 0.00174562 0.00403367 0.01018224 0.01226704 0.00955914 0.01138576\n",
      " 0.0059046  0.00814628 0.00496287 0.00695138]\n"
     ]
    }
   ],
   "source": [
    "\"\"\"\n",
    "DO NOT DELETE THIS !!!\n",
    "\n",
    "\"\"\"\n",
    "\n",
    "from tools import psi, bin_to_dec, dec_to_bin \n",
    "import numpy as np \n",
    "import matplotlib.pyplot as plt \n",
    "\n",
    "m =4\n",
    "\n",
    "x = np.linspace(0,2**6,100)\n",
    "xs = np.linspace(0,2**6,2**6)\n",
    "y = np.array([psi(i) for i in x])\n",
    "ys = np.array([psi(i) for i in xs])\n",
    "\n",
    "y_reduced = np.modf(ys / (2* np.pi))[0] \n",
    "y_reduced_bin = [dec_to_bin(i,m, \"unsigned mag\", 0) for i in y_reduced]\n",
    "y_reduced_dec =  np.array([bin_to_dec(i,\"unsigned mag\", 0) for i in y_reduced_bin])\n",
    "\n",
    "y_rounded = 2 * np.pi * y_reduced_dec\n",
    "\n",
    "plt.plot(x,y)\n",
    "plt.scatter(xs,y_rounded)\n",
    "plt.scatter(xs,phi)\n",
    "plt.show()\n",
    "\n",
    "\"\"\"\n",
    "DO NOT DELETE THIS !!!\n",
    "\n",
    "\"\"\"\n",
    "\n",
    "print(phi)"
   ]
  },
  {
   "cell_type": "code",
   "execution_count": 62,
   "metadata": {},
   "outputs": [
    {
     "data": {
      "text/plain": [
       "0"
      ]
     },
     "execution_count": 62,
     "metadata": {},
     "output_type": "execute_result"
    }
   ],
   "source": [
    "from tools import full_encode \n",
    "\n",
    "weights_A =\"ampl_outputs/weights_6_8_800_x76_MSE_40_168_.npy\"\n",
    "weights_p=\"outputs/weights_6_4(0)_3_1000_x_L1_(S)(PR)(r).npy\"\n",
    "name = \"FIRST_TEST\"\n",
    "\n",
    "full_encode(6,4, weights_A, weights_p, 8, 3,True, name)"
   ]
  },
  {
   "cell_type": "code",
   "execution_count": 65,
   "metadata": {},
   "outputs": [
    {
     "data": {
      "image/png": "[encoded data removed]",
      "text/plain": [
       "<Figure size 432x288 with 1 Axes>"
      ]
     },
     "metadata": {
      "needs_background": "light"
     },
     "output_type": "display_data"
    },
    {
     "data": {
      "text/plain": [
       "0.832386369452736"
      ]
     },
     "execution_count": 65,
     "metadata": {},
     "output_type": "execute_result"
    }
   ],
   "source": [
    "import numpy as np\n",
    "import matplotlib.pyplot as plt \n",
    "\n",
    "vec = np.load(\"FIRST_TEST.npy\")\n",
    "\n",
    "vec2 = np.abs(np.load(\"ampl_outputs/statevec_6_8_800_x76_MSE_40_168_.npy\"))\n",
    "\n",
    "phi =np.angle(vec)\n",
    "phi = phi + 2* np.pi * (phi < 0).astype(int)\n",
    "phi *= (np.abs(vec) > 1e-15).astype(float)\n",
    "\n",
    "\n",
    "\n",
    "mag = np.abs(vec) \n",
    "\n",
    "n = 6\n",
    "x_min = 40\n",
    "x_max = 168 \n",
    "\n",
    "dx = (x_max-x_min)/(2**n)\n",
    "x = np.arange(x_min,x_max, dx)\n",
    "\n",
    "target_arr = np.array([i**(-7./6) for i in x])**2\n",
    "target_arr = target_arr / np.sum(target_arr)\n",
    "\n",
    "target_arr= np.sqrt(target_arr)\n",
    "\n",
    "plt.scatter(x,mag)\n",
    "plt.scatter(x,vec2)\n",
    "plt.plot(x,target_arr)\n",
    "\n",
    "plt.show()\n",
    "\n",
    "np.sum(np.abs(vec)**2)\n",
    "\n"
   ]
  },
  {
   "cell_type": "code",
   "execution_count": 11,
   "metadata": {},
   "outputs": [
    {
     "name": "stdout",
     "output_type": "stream",
     "text": [
      "                                            ░                      \n",
      " input_0: ────────────────■─────────────────░──────────────────────\n",
      "                          │                 ░                      \n",
      " input_1: ────────────────┼──────────■──────░──────────────────────\n",
      "          ┌─────────┐┌────┴────┐     │      ░ ┌───┐┌─────────┐     \n",
      "target_0: ┤ U2(0,π) ├┤ Ry(1.0) ├─────┼──────░─┤ X ├┤ Ry(1.0) ├──■──\n",
      "          ├─────────┤└─────────┘┌────┴────┐ ░ └─┬─┘├─────────┤┌─┴─┐\n",
      "target_1: ┤ U2(0,π) ├───────────┤ Ry(1.0) ├─░───■──┤ Ry(1.0) ├┤ X ├\n",
      "          └─────────┘           └─────────┘ ░      └─────────┘└───┘\n"
     ]
    }
   ],
   "source": []
  },
  {
   "cell_type": "code",
   "execution_count": 25,
   "metadata": {},
   "outputs": [
    {
     "name": "stdout",
     "output_type": "stream",
     "text": [
      "\n",
      "[0.7286 0.125  0.125  0.0214]\n",
      "[ 0.    0.25 -0.5  -0.25]\n"
     ]
    }
   ],
   "source": [
    "from tools import extract_phase, A_generate_network\n",
    "from qiskit import QuantumCircuit, QuantumRegister, Aer, execute\n",
    "from qiskit.circuit.library import HGate\n",
    "\n",
    "def qubit_to_phase(circ, qreg, nint=None, wrap=False, inverse=False, phase=False, factor=1, label='Amp2Phase'):\n",
    "    r\"\"\"\n",
    "    |qreg> -> e^(2pi i qreg)|qreg>\n",
    "    \"\"\"\n",
    "    n = len(qreg)\n",
    "\n",
    "    if inverse:\n",
    "        wrap = True\n",
    "\n",
    "    if wrap:\n",
    "        qreg = QuantumRegister(n, 'q_reg')\n",
    "        circ = QuantumCircuit(qreg)\n",
    "\n",
    "    if phase:\n",
    "        n -= 1\n",
    "\n",
    "    if nint==None:\n",
    "        nint = n\n",
    "\n",
    "    for k in np.arange(1,n-nint+1):\n",
    "        lam = 2.*np.pi*(2.**(-k))*factor\n",
    "        qubit = n-nint-k\n",
    "        circ.p(lam,qreg[qubit])\n",
    "\n",
    "    #if phase:\n",
    "    #    phase_gate = qubit_to_phase(circ, qreg[:-1], nint=nint, factor=-2, wrap=True, phase=False).control(1)\n",
    "    #    circ.append(phase_gate, [qreg[-1], *qreg[:-1]]);\n",
    "\n",
    "    if wrap:\n",
    "        circ = circ.to_gate()\n",
    "        circ.label = label\n",
    "\n",
    "    if inverse:\n",
    "        circ = circ.inverse()\n",
    "        circ.label = label+'†'\n",
    "    \n",
    "    return circ\n",
    "\n",
    "n =2 \n",
    "m = 2\n",
    "\n",
    "# set up registers \n",
    "#input_register = QuantumRegister(n, \"input\")\n",
    "target_register = QuantumRegister(m, \"target\")\n",
    "#circuit = QuantumCircuit(input_register, target_register) \n",
    "\n",
    "circuit = QuantumCircuit(target_register) \n",
    "\n",
    "\n",
    "\n",
    "\"\"\"\n",
    "# load weights \n",
    "weights_A = np.load(weights_A_str)\n",
    "weights_p = np.load(weights_p_str)\n",
    "\n",
    "\n",
    "# encode amplitudes \n",
    "circuit.compose(A_generate_network(n, L_A), input_register, inplace=True)\n",
    "circuit = circuit.assign_parameters(weights_A)\n",
    "\n",
    "# evaluate function\n",
    "qc = generate_network(n,m, L_p, real=real_p)\n",
    "qc = qc.assign_parameters(weights_p)\n",
    "inv_qc = qc.inverse()\n",
    "circuit.compose(qc, [*input_register,*target_register], inplace=True) \n",
    "\"\"\"\n",
    "# extract phases \n",
    "\n",
    "#circuit.h(input_register)\n",
    "#circuit.h([*input_register, *target_register])\n",
    "#circuit.compose(qc, target_register, inplace=True)\n",
    "\n",
    "circuit.ry(theta=np.pi/4,qubit=target_register)\n",
    "\n",
    "circuit.compose(extract_phase(m),target_register, inplace=True) \n",
    "\n",
    "#phase_gates = qubit_to_phase(circuit, target_register, 0, wrap=True, phase=True, factor=1)\n",
    "#circuit.compose(phase_gates, target_register, inplace=True)\n",
    "\n",
    "#circuit.ry(theta=-np.pi/4,qubit=target_register)\n",
    "\n",
    "\n",
    "#circuit.compose(extract_phase(m).inverse(),target_register, inplace=True) \n",
    "#circuit.compose(qc_inv, target_register, inplace=True)\n",
    "#circuit.h(target_register)\n",
    "\n",
    "\n",
    "\n",
    "\"\"\"\n",
    "# clear ancilla register \n",
    "circuit.compose(inv_qc, [*input_register,*target_register], inplace=True) \n",
    "\"\"\"\n",
    "# get resulting statevector \n",
    "backend = Aer.get_backend('statevector_simulator')\n",
    "job = execute(circuit, backend)\n",
    "result = job.result()\n",
    "state_vector = result.get_statevector()\n",
    "\n",
    "state_vector = np.asarray(state_vector) #.reshape((2**m,2**n))\n",
    "#state_v = state_vector[:,0].flatten()\n",
    "\n",
    "#print(np.angle(state_v))\n",
    "#print(np.abs(state_v)**2)\n",
    "\n",
    "print(\"\")\n",
    "print(np.round(np.abs(state_vector)**2,4))\n",
    "print(np.round(np.angle(state_vector)/ (2*np.pi),4))\n"
   ]
  },
  {
   "cell_type": "code",
   "execution_count": 75,
   "metadata": {},
   "outputs": [
    {
     "data": {
      "text/plain": [
       "array([[1., 1., 1.]])"
      ]
     },
     "execution_count": 75,
     "metadata": {},
     "output_type": "execute_result"
    }
   ],
   "source": [
    "np.ones((1,3))"
   ]
  },
  {
   "cell_type": "code",
   "execution_count": 87,
   "metadata": {},
   "outputs": [
    {
     "name": "stdout",
     "output_type": "stream",
     "text": [
      "[0.25 0.25 0.25 0.25 0.   0.   0.   0.   0.   0.   0.   0.   0.   0.\n",
      " 0.   0.  ]\n",
      "\n",
      "[0.    0.125 0.25  0.375 0.    0.    0.    0.    0.    0.    0.    0.\n",
      " 0.    0.    0.    0.   ]\n"
     ]
    }
   ],
   "source": [
    "from tools import extract_phase, A_generate_network\n",
    "from qiskit import QuantumCircuit, QuantumRegister, Aer, execute\n",
    "\n",
    "circ = QuantumCircuit(4)\n",
    "\n",
    "#circ.h(circ.qubits[:])\n",
    "\n",
    "#circ.x(circ.qubits[2:4])\n",
    "\n",
    "circ.h(circ.qubits[0:2])\n",
    "\n",
    "#####\n",
    "circ.p(2*np.pi * 2**(-3), circ.qubits[0])\n",
    "circ.p(2*np.pi * 2**(-2), circ.qubits[1])\n",
    "#circ.p(2*np.pi * 2**(-1), circ.qubits[2])\n",
    "\n",
    "#circ.compose(qubit_to_phase(circ, circ.qubits, 0, wrap=True, phase=False, factor=1),circ.qubits, inplace=True)\n",
    "#circ.compose(extract_phase(3),circ.qubits, inplace=True) \n",
    "\n",
    "#circ.x(circ.qubits[0])\n",
    "\n",
    "#circ.h(circ.qubits[:])\n",
    "\n",
    "backend = Aer.get_backend('statevector_simulator')\n",
    "job = execute(circ, backend)\n",
    "result = job.result()\n",
    "state_vector = result.get_statevector()\n",
    "state_vector = np.asarray(state_vector)\n",
    "\n",
    "phi = np.angle(state_vector)\n",
    "phi = phi + 2* np.pi * (phi < 0).astype(int)\n",
    "phi = phi / (2* np.pi)\n",
    "phi *= (np.abs(state_vector) > 1e-15).astype(float)\n",
    "\n",
    "print(np.abs(state_vector)**2)\n",
    "print(\"\")\n",
    "print(phi)"
   ]
  },
  {
   "cell_type": "code",
   "execution_count": 22,
   "metadata": {},
   "outputs": [
    {
     "data": {
      "text/plain": [
       "array([0, 0, 0, 0, 0, 0, 0, 0])"
      ]
     },
     "execution_count": 22,
     "metadata": {},
     "output_type": "execute_result"
    }
   ],
   "source": []
  },
  {
   "cell_type": "code",
   "execution_count": null,
   "metadata": {},
   "outputs": [],
   "source": []
  }
 ],
 "metadata": {
  "kernelspec": {
   "display_name": "Python 3",
   "language": "python",
   "name": "python3"
  },
  "language_info": {
   "codemirror_mode": {
    "name": "ipython",
    "version": 3
   },
   "file_extension": ".py",
   "mimetype": "text/x-python",
   "name": "python",
   "nbconvert_exporter": "python",
   "pygments_lexer": "ipython3",
   "version": "3.9.13"
  }
 },
 "nbformat": 4,
 "nbformat_minor": 2
}
