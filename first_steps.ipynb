{
 "cells": [
  {
   "cell_type": "code",
   "execution_count": 10,
   "metadata": {},
   "outputs": [
    {
     "data": {
      "image/png": "[encoded data removed]",
      "text/plain": [
       "<Figure size 432x288 with 1 Axes>"
      ]
     },
     "metadata": {
      "needs_background": "light"
     },
     "output_type": "display_data"
    },
    {
     "data": {
      "image/png": "[encoded data removed]",
      "text/plain": [
       "<Figure size 432x288 with 1 Axes>"
      ]
     },
     "metadata": {
      "needs_background": "light"
     },
     "output_type": "display_data"
    },
    {
     "name": "stdout",
     "output_type": "stream",
     "text": [
      "[1. 0. 0. 0. 0. 0. 0. 0. 0. 0. 0. 0. 0. 0. 0. 0.]\n"
     ]
    },
    {
     "data": {
      "text/plain": [
       "array([534.,   0.,   0.,   0.,   0., 475.,   0.,   0.,   0.,   0., 487.,\n",
       "         0.,   0.,   0.,   0., 504.])"
      ]
     },
     "execution_count": 10,
     "metadata": {},
     "output_type": "execute_result"
    }
   ],
   "source": [
    "import numpy as np \n",
    "import matplotlib.pyplot as plt \n",
    "\n",
    "seed = 1680458526\n",
    "rng = np.random.default_rng(seed=seed)\n",
    "\n",
    "n =2 \n",
    "m =2 \n",
    "epochs = 2000 \n",
    "\n",
    "x_min = 0\n",
    "x_max = 2**n \n",
    "x_arr = rng.integers(x_min, x_max, size=epochs)\n",
    "fx_arr = [x for x in x_arr]\n",
    "\n",
    "arr = np.zeros(2**(n+m))\n",
    "\n",
    "i = 0\n",
    "for i in np.arange(len(x_arr)):\n",
    "    target_arr = np.zeros(2**(n+m))\n",
    "    index = int(np.binary_repr(x_arr[i],n)+np.binary_repr(fx_arr[i],m),2)\n",
    "    target_arr[index]=1 \n",
    "\n",
    "    arr += target_arr\n",
    "\n",
    "    plt.plot(np.arange(2**(n+m)), target_arr)\n",
    "\n",
    "plt.show()    \n",
    "\n",
    "plt.scatter(np.arange(len(x_arr)),x_arr)\n",
    "plt.show()\n",
    "\n",
    "print(target_arr)\n",
    "\n",
    "arr"
   ]
  },
  {
   "cell_type": "code",
   "execution_count": 2,
   "metadata": {},
   "outputs": [
    {
     "data": {
      "text/plain": [
       "'100'"
      ]
     },
     "execution_count": 2,
     "metadata": {},
     "output_type": "execute_result"
    }
   ],
   "source": [
    "str(bin(4))[2:]"
   ]
  },
  {
   "cell_type": "code",
   "execution_count": 18,
   "metadata": {},
   "outputs": [
    {
     "name": "stdout",
     "output_type": "stream",
     "text": [
      "76 207\n"
     ]
    }
   ],
   "source": [
    "from tools import generate_network \n",
    "\n",
    "circ = generate_network(2,3, 8)\n",
    "num_CX = dict(circ.decompose(reps=4).count_ops())[\"cx\"]\n",
    "num_gates = num_CX + dict(circ.decompose(reps=4).count_ops())[\"u\"]\n",
    "\n",
    "print(num_CX, num_gates)"
   ]
  },
  {
   "cell_type": "code",
   "execution_count": 20,
   "metadata": {},
   "outputs": [
    {
     "data": {
      "text/plain": [
       "7"
      ]
     },
     "execution_count": 20,
     "metadata": {},
     "output_type": "execute_result"
    }
   ],
   "source": [
    "x =int(\"111\",2)\n",
    "\n",
    "x"
   ]
  },
  {
   "cell_type": "code",
   "execution_count": 23,
   "metadata": {},
   "outputs": [
    {
     "name": "stdout",
     "output_type": "stream",
     "text": [
      "0b0\n",
      "0b1\n",
      "0b10\n",
      "0b11\n"
     ]
    }
   ],
   "source": [
    "for i in range(4):\n",
    "    #print(bin(2*i +1))\n",
    "    print(bin(i))"
   ]
  },
  {
   "cell_type": "code",
   "execution_count": 41,
   "metadata": {},
   "outputs": [],
   "source": []
  },
  {
   "cell_type": "code",
   "execution_count": 49,
   "metadata": {},
   "outputs": [
    {
     "name": "stdout",
     "output_type": "stream",
     "text": [
      "IN 0\n",
      "AA\n",
      "NN\n",
      "IN 1\n",
      "AA\n",
      "NN\n",
      "IN 0\n"
     ]
    }
   ],
   "source": [
    "import numpy as np\n",
    "\n",
    "L =6\n",
    "\n",
    "print(\"IN 0\")\n",
    "for i in np.arange(L):\n",
    "\n",
    "            if i % 3 ==0:\n",
    "                print(\"AA\")\n",
    "            elif i % 3 ==1:\n",
    "                print(\"NN\")\n",
    "            elif i % 3 ==2:\n",
    "                # alternate between layers with control states 0 and 1 \n",
    "                if i % 2 == 0:\n",
    "                    print(\"IN 1\")\n",
    "                elif i % 2 == 1:\n",
    "                    print(\"IN 0\")\n",
    "\n"
   ]
  },
  {
   "cell_type": "code",
   "execution_count": 3,
   "metadata": {},
   "outputs": [
    {
     "data": {
      "text/plain": [
       "4"
      ]
     },
     "execution_count": 3,
     "metadata": {},
     "output_type": "execute_result"
    }
   ],
   "source": [
    "str =\"x**2\"\n",
    "\n",
    "f= lambda x: eval(str) \n",
    "\n",
    "f(2)"
   ]
  },
  {
   "cell_type": "code",
   "execution_count": 29,
   "metadata": {},
   "outputs": [
    {
     "name": "stdout",
     "output_type": "stream",
     "text": [
      "3.169925001442312\n"
     ]
    },
    {
     "ename": "ValueError",
     "evalue": "Insufficient number of target qubits: at least 4 required",
     "output_type": "error",
     "traceback": [
      "\u001b[1;31m---------------------------------------------------------------------------\u001b[0m",
      "\u001b[1;31mValueError\u001b[0m                                Traceback (most recent call last)",
      "\u001b[1;32m~\\AppData\\Local\\Temp/ipykernel_3872/3233199659.py\u001b[0m in \u001b[0;36m<module>\u001b[1;34m\u001b[0m\n\u001b[0;32m     12\u001b[0m \u001b[1;33m\u001b[0m\u001b[0m\n\u001b[0;32m     13\u001b[0m \u001b[1;32mif\u001b[0m \u001b[0mnp\u001b[0m\u001b[1;33m.\u001b[0m\u001b[0mlog2\u001b[0m\u001b[1;33m(\u001b[0m\u001b[0mnp\u001b[0m\u001b[1;33m.\u001b[0m\u001b[0mmax\u001b[0m\u001b[1;33m(\u001b[0m\u001b[0mf_arr\u001b[0m\u001b[1;33m)\u001b[0m\u001b[1;33m)\u001b[0m\u001b[1;33m>\u001b[0m \u001b[0mm\u001b[0m\u001b[1;33m:\u001b[0m\u001b[1;33m\u001b[0m\u001b[1;33m\u001b[0m\u001b[0m\n\u001b[1;32m---> 14\u001b[1;33m     \u001b[1;32mraise\u001b[0m \u001b[0mValueError\u001b[0m\u001b[1;33m(\u001b[0m\u001b[1;34mf\"Insufficient number of target qubits: at least {int(np.ceil(np.log2(np.max(f_arr))))} required\"\u001b[0m\u001b[1;33m)\u001b[0m\u001b[1;33m\u001b[0m\u001b[1;33m\u001b[0m\u001b[0m\n\u001b[0m\u001b[0;32m     15\u001b[0m \u001b[1;33m\u001b[0m\u001b[0m\n\u001b[0;32m     16\u001b[0m \u001b[1;32mfor\u001b[0m \u001b[0mi\u001b[0m \u001b[1;32min\u001b[0m \u001b[0mrange\u001b[0m\u001b[1;33m(\u001b[0m\u001b[1;36m2\u001b[0m\u001b[1;33m**\u001b[0m\u001b[0mn\u001b[0m\u001b[1;33m)\u001b[0m\u001b[1;33m:\u001b[0m\u001b[1;33m\u001b[0m\u001b[1;33m\u001b[0m\u001b[0m\n",
      "\u001b[1;31mValueError\u001b[0m: Insufficient number of target qubits: at least 4 required"
     ]
    }
   ],
   "source": [
    "import numpy as np \n",
    "\n",
    "n=2 \n",
    "m=3\n",
    "\n",
    "max = 2**(n+m)\n",
    "\n",
    "x_arr = np.arange(2**n)\n",
    "f_arr = [x**2 for x in x_arr]\n",
    "\n",
    "print(np.log2(np.max(f_arr)))\n",
    "\n",
    "if np.log2(np.max(f_arr))> m:\n",
    "    raise ValueError(f\"Insufficient number of target qubits: at least {int(np.ceil(np.log2(np.max(f_arr))))} required\")\n",
    "\n",
    "for i in range(2**n):\n",
    "    #print(int(np.binary_repr(f_arr[i],m)+np.binary_repr(x_arr[i],n),2))\n",
    "    #print(np.binary_repr(f_arr[i],m)+np.binary_repr(x_arr[i],n))\n",
    "    print(np.binary_repr(f_arr[i]))\n",
    "\n",
    "#print(np.binary_repr(f_arr))    \n"
   ]
  },
  {
   "cell_type": "code",
   "execution_count": 21,
   "metadata": {},
   "outputs": [
    {
     "name": "stdout",
     "output_type": "stream",
     "text": [
      "x\n"
     ]
    }
   ],
   "source": [
    "import argparse \n",
    "\n",
    "parser = argparse.ArgumentParser(usage='', description=\"Train and test the QCNN.\")   \n",
    "parser.add_argument('-n','--n', help=\"Number of input qubits.\", default=2, type=int)\n",
    "parser.add_argument('-m','--m', help=\"Number of target qubits.\", default=2, type=int)\n",
    "parser.add_argument('-L','--L', help=\"Number of network layers. If multiple values given will execute sequentially.\", default=[6],type=int, nargs=\"+\")\n",
    "parser.add_argument('-l','--loss', help=\"Loss function.\", default=\"CE\", choices=[\"CE\", \"MSE\", \"L1\", \"KLD\"])\n",
    "parser.add_argument('-f','--f', help=\"Function to evaluate (variable: x).\", default=\"x\")\n",
    "parser.add_argument('-fs','--f_str', help=\"String describing function.\")\n",
    "parser.add_argument('-e','--epochs', help=\"Number of epochs.\", default=300,type=int)\n",
    "parser.add_argument('-M','--meta', help=\"String with meta data.\", default=\"\")\n",
    "\n",
    "parser.add_argument('--seed', help=\"Random seed.\", default=1680458526,type=int)\n",
    "parser.add_argument('--lr', help=\"Learning rate.\", default=0.01,type=float)\n",
    "parser.add_argument('--b1', help=\"Adam optimizer b1 parameter.\", default=0.7,type=float)\n",
    "parser.add_argument('--b2', help=\"Adam optimizer b2 parameter.\", default=0.999,type=float)\n",
    "parser.add_argument('--shots', help=\"Number of shots used by sampler.\", default=300,type=int)\n",
    "\n",
    "\n",
    "opt = parser.parse_args([\"-n\", \"4\", \"-L\", \"6\", \"9\", \"12\", \"-e\" ,\"100\"])\n",
    "\n",
    "if opt.f_str==None:\n",
    "    opt.f_str=opt.f \n",
    "\n",
    "print(opt.f_str)"
   ]
  },
  {
   "cell_type": "code",
   "execution_count": 46,
   "metadata": {},
   "outputs": [
    {
     "name": "stdout",
     "output_type": "stream",
     "text": [
      "[0. 0. 0. 0. 0.]\n"
     ]
    }
   ],
   "source": [
    "import numpy as np\n",
    "\n",
    "arr = np.empty(5)\n",
    "np.save(\"test\", arr)\n",
    "\n",
    "arr2 = np.load(\"test.npy\")\n",
    "\n",
    "print(arr)"
   ]
  },
  {
   "cell_type": "code",
   "execution_count": 77,
   "metadata": {},
   "outputs": [
    {
     "data": {
      "text/plain": [
       "0.013113737106323242"
      ]
     },
     "execution_count": 77,
     "metadata": {},
     "output_type": "execute_result"
    }
   ],
   "source": [
    "import numpy as np\n",
    "\n",
    "rec = np.load(\"outputs/loss_2_2_1_300_x_CE_.npy\") \n",
    "norev =np.load(\"outputs/loss_2_2_1_300_x_CE_N.npy\")\n",
    "\n",
    "x =rec -norev\n",
    "\n",
    "np.max(x)\n",
    "\n",
    "#np.argwhere(x >0)"
   ]
  },
  {
   "cell_type": "code",
   "execution_count": 78,
   "metadata": {},
   "outputs": [],
   "source": [
    "from tools import check_duplicates \n",
    "\n",
    "check_duplicates(2,2,1,300,\"x\", \"CE\", \"\")"
   ]
  },
  {
   "cell_type": "code",
   "execution_count": null,
   "metadata": {},
   "outputs": [],
   "source": []
  }
 ],
 "metadata": {
  "kernelspec": {
   "display_name": "Python 3",
   "language": "python",
   "name": "python3"
  },
  "language_info": {
   "codemirror_mode": {
    "name": "ipython",
    "version": 3
   },
   "file_extension": ".py",
   "mimetype": "text/x-python",
   "name": "python",
   "nbconvert_exporter": "python",
   "pygments_lexer": "ipython3",
   "version": "3.9.13"
  }
 },
 "nbformat": 4,
 "nbformat_minor": 2
}
