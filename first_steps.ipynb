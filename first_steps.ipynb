{
 "cells": [
  {
   "cell_type": "code",
   "execution_count": 13,
   "metadata": {},
   "outputs": [
    {
     "data": {
      "text/plain": [
       "(1, 0)"
      ]
     },
     "execution_count": 13,
     "metadata": {},
     "output_type": "execute_result"
    }
   ],
   "source": [
    "## HAYES \n",
    "\n",
    "[SAM] norm: 0.95532; epsilon: 4.468e-02; chi: 7.373e-02; mu: 6.836e-02; sigma: 1.775e-01; omega: 2.745\n",
    "[WIM] norm: 0.82031; epsilon: 1.797e-01; chi: 1.004e-01; mu: 8.380e-02; sigma: 1.193e-01; omega: 2.069\n",
    "[WILL] norm: 0.97321; epsilon: 2.679e-02; chi: 6.962e-02; mu: 7.088e-02; sigma: 2.135e-01; omega: 2.626\n",
    "\n",
    "## F \n",
    "\n",
    "[SAM] norm: 0.98051; epsilon: 1.949e-02; chi: 3.169e-02; mu: 3.386e-02; sigma: 1.394e-01; omega: 4.456\n",
    "[WIM] norm: 0.90829; epsilon: 9.171e-02; chi: 5.096e-02; mu: 6.035e-02; sigma: 1.107e-01; omega: 3.188\n",
    "[WILL] norm: 0.81111; epsilon: 1.889e-01; chi: 3.888e-01; mu: 3.038e-01; sigma: 1.773e-02; omega: 1.112\n",
    "\n",
    "## f2 \n",
    "\n",
    "[SAM] norm: 0.77710; epsilon: 2.229e-01; chi: 1.910e-01; mu: 1.884e-01; sigma: 1.162e-01; omega: 1.392\n",
    "[WIM] norm: 0.58218; epsilon: 4.178e-01; chi: 1.970e-01; mu: 2.320e-01; sigma: 1.031e-01; omega: 1.053\n",
    "[WILL] norm: 0.62052; epsilon: 3.795e-01; chi: 6.832e-01; mu: 4.713e-01; sigma: 1.477e-01; omega: 0.595\n"
   ]
  },
  {
   "cell_type": "markdown",
   "metadata": {},
   "source": [
    "## HAYES \n",
    "[WILL] norm: 0.97321; epsilon: 2.679e-02; chi: 6.962e-02; mu: 7.088e-02; sigma: 2.135e-01; omega: 2.626\n",
    "\n",
    "## F \n",
    "[WILL] norm: 0.81111; epsilon: 1.889e-01; chi: 3.888e-01; mu: 3.038e-01; sigma: 1.773e-02; omega: 1.112\n",
    "\n",
    "## f2 \n",
    "\n",
    "[WILL] norm: 0.62052; epsilon: 3.795e-01; chi: 6.832e-01; mu: 4.713e-01; sigma: 1.477e-01; omega: 0.595"
   ]
  }
 ],
 "metadata": {
  "kernelspec": {
   "display_name": "Python 3",
   "language": "python",
   "name": "python3"
  },
  "language_info": {
   "codemirror_mode": {
    "name": "ipython",
    "version": 3
   },
   "file_extension": ".py",
   "mimetype": "text/x-python",
   "name": "python",
   "nbconvert_exporter": "python",
   "pygments_lexer": "ipython3",
   "version": "3.9.13"
  }
 },
 "nbformat": 4,
 "nbformat_minor": 2
}
