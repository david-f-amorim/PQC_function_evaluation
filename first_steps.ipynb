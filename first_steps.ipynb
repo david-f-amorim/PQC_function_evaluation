{
 "cells": [
  {
   "cell_type": "code",
   "execution_count": 24,
   "metadata": {},
   "outputs": [
    {
     "data": {
      "text/plain": [
       "array([1, 1, 2, 3, 4, 5])"
      ]
     },
     "execution_count": 24,
     "metadata": {},
     "output_type": "execute_result"
    }
   ],
   "source": [
    "import numpy as np \n",
    "\n",
    "arr = np.array([1,2,3,4,5])\n",
    "\n",
    "p_arr = np.append(p_arr[0],p_arr)\n",
    "q_arr = np.append(q_arr[0],q_arr)\n",
    "\n",
    "arr"
   ]
  },
  {
   "cell_type": "code",
   "execution_count": 17,
   "metadata": {},
   "outputs": [
    {
     "name": "stdout",
     "output_type": "stream",
     "text": [
      "[0.125, 0.125, 0.125, 0.125, 0.125, 0.0, 0.0, 0.0, 0.0, 0.0, 0.0, 0.0, 0.0, 0.0, 0.0, 0.0, 0.0, 0.0, 0.0, 0.0, 0.0, 0.0, 0.0, 0.0, 0.0, 0.0, 0.0, 0.0, 0.0, 0.0, 0.0, 0.0, 0.0, 0.0, 0.0, 0.0, 0.0, 0.0, 0.0, 0.0, 0.0, 0.0, 0.0, 0.0, 0.0, 0.0, 0.0, 0.0, 0.0, 0.0, 0.0, 0.0, 0.0, 0.0, 0.0, 0.0, 0.0, 0.0, 0.0, 0.0, 0.0, 0.0, 0.0, 0.0]\n"
     ]
    }
   ],
   "source": [
    "print(fx_arr2)"
   ]
  },
  {
   "cell_type": "code",
   "execution_count": 33,
   "metadata": {},
   "outputs": [],
   "source": [
    "from tools import psi, dec_to_bin, bin_to_dec, full_encode\n",
    "import os \n",
    "from fractions import Fraction\n",
    "\n",
    "def get_phase_target(m):\n",
    "\n",
    "    # define x array \n",
    "    n = 6\n",
    "    x_min = 40\n",
    "    x_max = 168 \n",
    "    dx = (x_max-x_min)/(2**n) \n",
    "    x_arr = np.arange(x_min, x_max, dx) \n",
    "\n",
    "    # calculate target output for phase \n",
    "    phase_target = psi(np.linspace(0, 2**n, len(x_arr)))\n",
    "\n",
    "    # calculate target for phase taking into account rounding \n",
    "    phase_reduced = np.modf(phase_target / (2* np.pi))[0] \n",
    "    phase_reduced_bin = [dec_to_bin(i,m, \"unsigned mag\", 0) for i in phase_reduced]\n",
    "    phase_reduced_dec =  np.array([bin_to_dec(i,\"unsigned mag\", 0) for i in phase_reduced_bin])\n",
    "    phase_rounded = 2 * np.pi * phase_reduced_dec\n",
    "\n",
    "    return phase_rounded\n",
    "\n",
    "def get_eps_chi(m,L,e,p,q):\n",
    "    # assume \"default conditions\"\n",
    "\n",
    "    file=os.path.join(\"outputs\",f\"weights_6_{m}(0)_{L}_{e}_psi_WILL_(S)(PR)(r)_{Fraction(p).numerator}-{Fraction(p).denominator}_{Fraction(q).numerator}-{Fraction(q).denominator}.npy\") \n",
    "    alt_file=os.path.join(\"outputs\",f\"weights_6_{m}(0)_{L}_{e}_psi_WILL_(S)(PR)(r)_{p if p != 1 else int(p)}_{q}.npy\")\n",
    "    if os.path.isfile(file):\n",
    "        weights_phase=file \n",
    "    elif os.path.isfile(alt_file):\n",
    "        weights_phase=alt_file    \n",
    "    else:\n",
    "        raise FileNotFoundError(f\"File '{file}' or '{alt_file}' not found.\")\n",
    "     \n",
    "    weights_ampl = \"ampl_outputs/weights_6_3_600_x76_MM_40_168_zeros.npy\" \n",
    "    state_vec = full_encode(6,m, weights_ampl, weights_phase, 3, L,real_p=True,repeat_params=None)\n",
    "\n",
    "    amplitude = np.abs(state_vec)\n",
    "    phase = np.angle(state_vec) + 2* np.pi * (np.angle(state_vec) < -np.pi).astype(int)\n",
    "    phase *= (amplitude > 1e-15).astype(float) \n",
    "\n",
    "    phase_rounded=get_phase_target(m)\n",
    "\n",
    "    epsilon = 1 - np.sum(amplitude**2)\n",
    "    chi = np.mean(np.abs(phase - phase_rounded))\n",
    "\n",
    "    print(phase)\n",
    "    print(phase_rounded)\n",
    "\n",
    "    return epsilon, chi "
   ]
  },
  {
   "cell_type": "code",
   "execution_count": 34,
   "metadata": {},
   "outputs": [
    {
     "name": "stdout",
     "output_type": "stream",
     "text": [
      "[ 0.00188469  0.00294799  0.00198489  0.00295468  0.00113523  0.00094188\n",
      " -0.00037444 -0.00056129  0.01586584  0.01499351  0.01884041  0.01809011\n",
      "  0.01253959  0.01044266  0.01399994  0.01214012  0.00223652  0.00342272\n",
      "  0.00683936  0.00809252 -0.00030557 -0.00029668  0.0027156   0.00287576\n",
      "  0.01754448  0.01705228  0.02571786  0.02550582  0.01253548  0.01091446\n",
      "  0.01920368  0.01795829 -0.03153422 -0.01817619 -0.01891604 -0.0070412\n",
      " -0.02829049 -0.01624579 -0.01869577 -0.00802905 -0.03037316 -0.02024667\n",
      " -0.01564503 -0.00684589 -0.02940832 -0.02046521 -0.01752836 -0.00979103\n",
      " -0.01654178 -0.00420352  0.0011863   0.01228313 -0.01649838 -0.00541164\n",
      " -0.00188769  0.0080588  -0.01443214 -0.00514732  0.0061136   0.01433409\n",
      " -0.01646208 -0.00827849  0.00105173  0.00828312]\n",
      "[0.78539816 0.78539816 0.78539816 0.78539816 0.78539816 0.\n",
      " 0.         0.         0.         0.         0.         0.\n",
      " 0.         0.         0.         0.         0.         0.\n",
      " 0.         0.         0.         0.         0.         0.\n",
      " 0.         0.         0.         0.         0.         0.\n",
      " 0.         0.         0.         0.         0.         0.\n",
      " 0.         0.         0.         0.         0.         0.\n",
      " 0.         0.         0.         0.         0.         0.\n",
      " 0.         0.         0.         0.         0.         0.\n",
      " 0.         0.         0.         0.         0.         0.\n",
      " 0.         0.         0.         0.        ]\n"
     ]
    },
    {
     "data": {
      "text/plain": [
       "(0.03543503025018946, 0.0725858819365268)"
      ]
     },
     "execution_count": 34,
     "metadata": {},
     "output_type": "execute_result"
    }
   ],
   "source": [
    "get_eps_chi(3,6,600,0.25,0.0)"
   ]
  },
  {
   "cell_type": "code",
   "execution_count": null,
   "metadata": {},
   "outputs": [],
   "source": [
    "n = 6\n",
    "    x_min = 40\n",
    "    x_max = 168 \n",
    "    dx = (x_max-x_min)/(2**n) \n",
    "    x_arr = np.arange(x_min, x_max, dx) "
   ]
  }
 ],
 "metadata": {
  "kernelspec": {
   "display_name": "Python 3",
   "language": "python",
   "name": "python3"
  },
  "language_info": {
   "codemirror_mode": {
    "name": "ipython",
    "version": 3
   },
   "file_extension": ".py",
   "mimetype": "text/x-python",
   "name": "python",
   "nbconvert_exporter": "python",
   "pygments_lexer": "ipython3",
   "version": "3.9.13"
  }
 },
 "nbformat": 4,
 "nbformat_minor": 2
}
