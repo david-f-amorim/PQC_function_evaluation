{
 "cells": [
  {
   "cell_type": "code",
   "execution_count": 1,
   "metadata": {},
   "outputs": [
    {
     "name": "stdout",
     "output_type": "stream",
     "text": [
      "[2.0, 4.0, 8.0, 0.0, 0.0]\n"
     ]
    },
    {
     "data": {
      "text/plain": [
       "(14.0, 7.0)"
      ]
     },
     "execution_count": 1,
     "metadata": {},
     "output_type": "execute_result"
    }
   ],
   "source": [
    "from psi_tools import bin_to_dec, bin_to_dec_old\n",
    "\n",
    "binary = '00111'\n",
    "nint=None \n",
    "\n",
    "new =bin_to_dec(binary, 'signed mag', nint=nint)\n",
    "old = bin_to_dec_old(binary, nint=nint, phase=True)\n",
    "\n",
    "new, old"
   ]
  },
  {
   "cell_type": "code",
   "execution_count": 10,
   "metadata": {},
   "outputs": [
    {
     "name": "stdout",
     "output_type": "stream",
     "text": [
      "2.0\n",
      "4.0\n",
      "8.0\n",
      "16.0\n",
      "32.0\n"
     ]
    }
   ],
   "source": [
    "for i in range(len(binary)):\n",
    "    print(2 * 2.**i)"
   ]
  },
  {
   "cell_type": "code",
   "execution_count": 25,
   "metadata": {},
   "outputs": [
    {
     "data": {
      "text/plain": [
       "'1100100'"
      ]
     },
     "execution_count": 25,
     "metadata": {},
     "output_type": "execute_result"
    }
   ],
   "source": [
    "import numpy as np\n",
    "\n",
    "num = 100\n",
    "\n",
    "bits=''\n",
    "\n",
    "x = num \n",
    "for i in range(int(np.ceil(np.log2(num)))): \n",
    "    bits+=str(x % 2)\n",
    "    x = x // 2 \n",
    "\n",
    "bits =bits[::-1]\n",
    "\n",
    "bits"
   ]
  },
  {
   "cell_type": "code",
   "execution_count": 27,
   "metadata": {},
   "outputs": [
    {
     "data": {
      "text/plain": [
       "'1100100'"
      ]
     },
     "execution_count": 27,
     "metadata": {},
     "output_type": "execute_result"
    }
   ],
   "source": [
    "\n",
    "def my_binary_repr(digit, n, nint=None, phase=False, nround=True, overflow_error=True):\n",
    "    \"\"\"\n",
    "    Convert a floating point digit to binary string\n",
    "    digit - input number (float)\n",
    "    n - total number of bits (int)\n",
    "    nint - number of integer bits. Default to lowest required (int)\n",
    "    \"\"\"\n",
    "\n",
    "    if nint is None:# or nint==n:\n",
    "        if phase:\n",
    "            nint = n - 1\n",
    "        else:\n",
    "            nint = n\n",
    "\n",
    "    if phase:\n",
    "        p = n - nint - 1\n",
    "        dmax = 2.**(nint) - 2.**(-p)\n",
    "        dmin = -2.**(nint)\n",
    "    else:\n",
    "        p = n - nint\n",
    "        dmax = 2.**(nint) - 2.**(-p)\n",
    "        dmin = 0.\n",
    "\n",
    "    if overflow_error:\n",
    "        if digit>dmax or digit<dmin:\n",
    "            raise ValueError('Digit '+str(digit)+' does not lie in the range:',dmin,'-',dmax,n,nint,p)\n",
    "\n",
    "    if nround:\n",
    "        n += 1\n",
    "        p += 1\n",
    "\n",
    "    value = digit\n",
    "    bin_out = ''\n",
    "    if phase:\n",
    "        if value<0.:\n",
    "            value+=2.**nint\n",
    "            bin_out+='1'\n",
    "        else:\n",
    "            bin_out+='0'\n",
    "    \n",
    "    for i,bit in enumerate(np.arange(-p,nint)[::-1]):\n",
    "        bin_out+=str(int(np.floor(value/2.**bit)))\n",
    "        if value>=2.**bit:\n",
    "            value-=2.**bit\n",
    "\n",
    "    if nround:\n",
    "        carry = True\n",
    "        bin_out = np.array(list(bin_out))\n",
    "        for i in np.arange(n)[::-1]:\n",
    "            if not carry:\n",
    "                break\n",
    "            if bin_out[i]=='1':\n",
    "                bin_out[i]='0'\n",
    "            elif bin_out[i]=='0':\n",
    "                bin_out[i]='1'\n",
    "                carry = False\n",
    "        bin_out = (\"\").join(list(bin_out[:-1]))\n",
    "\n",
    "    return bin_out\n",
    "\n",
    "\n",
    "my_binary_repr(100, 7, nround=False)"
   ]
  },
  {
   "cell_type": "code",
   "execution_count": 22,
   "metadata": {},
   "outputs": [
    {
     "data": {
      "text/plain": [
       "'0b10'"
      ]
     },
     "execution_count": 22,
     "metadata": {},
     "output_type": "execute_result"
    }
   ],
   "source": [
    "bin(2)"
   ]
  },
  {
   "cell_type": "code",
   "execution_count": 29,
   "metadata": {},
   "outputs": [
    {
     "data": {
      "text/plain": [
       "1.0"
      ]
     },
     "execution_count": 29,
     "metadata": {},
     "output_type": "execute_result"
    }
   ],
   "source": [
    "np.modf(1.4)[1]"
   ]
  },
  {
   "cell_type": "code",
   "execution_count": null,
   "metadata": {},
   "outputs": [],
   "source": []
  }
 ],
 "metadata": {
  "kernelspec": {
   "display_name": "Python 3",
   "language": "python",
   "name": "python3"
  },
  "language_info": {
   "codemirror_mode": {
    "name": "ipython",
    "version": 3
   },
   "file_extension": ".py",
   "mimetype": "text/x-python",
   "name": "python",
   "nbconvert_exporter": "python",
   "pygments_lexer": "ipython3",
   "version": "3.9.13"
  }
 },
 "nbformat": 4,
 "nbformat_minor": 2
}
