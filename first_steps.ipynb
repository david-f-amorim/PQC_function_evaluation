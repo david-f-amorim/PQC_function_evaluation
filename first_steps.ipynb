{
 "cells": [
  {
   "cell_type": "code",
   "execution_count": 32,
   "metadata": {},
   "outputs": [
    {
     "data": {
      "text/plain": [
       "90.75887469507009"
      ]
     },
     "execution_count": 32,
     "metadata": {},
     "output_type": "execute_result"
    }
   ],
   "source": [
    "import numpy as np \n",
    "import matplotlib.pyplot as plt \n",
    "from tools import psi, extract_phase, generate_network \n",
    "import qiskit.quantum_info as qi\n",
    "from qiskit import QuantumRegister, QuantumCircuit\n",
    "\n",
    "def get_com(m,L_p, real_p, repeat_params, weights_p):\n",
    "    \"\"\"Assume standard conditions\"\"\"\n",
    "    n=6 \n",
    "\n",
    "    weights=np.load(weights_p)\n",
    "\n",
    "    # set up circuits \n",
    "    input_register = QuantumRegister(n, \"input\")\n",
    "    target_register = QuantumRegister(m, \"target\")\n",
    "    circuit = QuantumCircuit(input_register, target_register) \n",
    "    input_register2=QuantumRegister(n, \"input\")\n",
    "    target_register2 = QuantumRegister(m, \"target\")\n",
    "    circuit2 = QuantumCircuit(input_register2, target_register2) \n",
    "\n",
    "    # evaluate function\n",
    "    qc = generate_network(n,m, L_p, real=real_p,repeat_params=repeat_params)\n",
    "    qc = qc.assign_parameters(weights)\n",
    "    circuit.compose(qc, [*input_register,*target_register], inplace=True) \n",
    "    op=qi.Operator(circuit)\n",
    "    op_arr=op.data \n",
    "\n",
    "    # extract phases \n",
    "    circuit2.compose(extract_phase(m),target_register2, inplace=True)\n",
    "    op2=qi.Operator(circuit2)\n",
    "    op_arr2=op2.data \n",
    "\n",
    "    ## get commutator \n",
    "    com= (op_arr @ op_arr2) - (op_arr2 @ op_arr)\n",
    "\n",
    "    return com \n",
    "\n",
    "np.abs(np.sum(com))\n"
   ]
  },
  {
   "cell_type": "code",
   "execution_count": null,
   "metadata": {},
   "outputs": [],
   "source": []
  }
 ],
 "metadata": {
  "kernelspec": {
   "display_name": "Python 3",
   "language": "python",
   "name": "python3"
  },
  "language_info": {
   "codemirror_mode": {
    "name": "ipython",
    "version": 3
   },
   "file_extension": ".py",
   "mimetype": "text/x-python",
   "name": "python",
   "nbconvert_exporter": "python",
   "pygments_lexer": "ipython3",
   "version": "3.9.13"
  }
 },
 "nbformat": 4,
 "nbformat_minor": 2
}
