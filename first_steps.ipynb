{
 "cells": [
  {
   "cell_type": "code",
   "execution_count": 32,
   "metadata": {},
   "outputs": [
    {
     "data": {
      "text/plain": [
       "array([0.00000000e+00, 2.44140625e-04, 1.95312500e-03, 6.59179688e-03,\n",
       "       1.56250000e-02, 3.05175781e-02, 5.27343750e-02, 8.37402344e-02,\n",
       "       1.25000000e-01, 1.77978516e-01, 2.44140625e-01, 3.24951172e-01,\n",
       "       4.21875000e-01, 5.36376953e-01, 6.69921875e-01, 8.23974609e-01])"
      ]
     },
     "execution_count": 32,
     "metadata": {},
     "output_type": "execute_result"
    }
   ],
   "source": [
    "import numpy as np \n",
    "from tools import bin_to_dec, dec_to_bin \n",
    "\n",
    "rng = np.random.default_rng(seed=123)\n",
    "\n",
    "epochs = 10 \n",
    "\n",
    "func = lambda x : x \n",
    "\n",
    "n =4 \n",
    "m =4 \n",
    "nint=0\n",
    "mint =0\n",
    "\n",
    "pn = n - nint \n",
    "\n",
    "x_min = 0\n",
    "x_max = 2.**nint - 2.**(-pn)\n",
    "x_arr = np.array(x_min + (x_max - x_min) *rng.random(size=epochs))\n",
    "fx_arr = np.array([func(i) for i in x_arr])\n",
    "\n",
    "x_arr_bin = [dec_to_bin(i,n,'unsigned mag',nint) for i in x_arr]\n",
    "fx_arr_bin = [dec_to_bin(i,m,'unsigned mag',mint) for i in fx_arr]\n",
    "\n",
    "z_arr = [dec_to_bin(i,n,encoding='unsigned mag') for i in range(2**n)]\n",
    "z_arr = np.array([bin_to_dec(i,nint=nint,encoding='unsigned mag') for i in z_arr])\n",
    "\n",
    "z_arr **3 \n"
   ]
  },
  {
   "cell_type": "code",
   "execution_count": 28,
   "metadata": {},
   "outputs": [
    {
     "data": {
      "image/png": "[encoded data removed]",
      "text/plain": [
       "<Figure size 432x288 with 1 Axes>"
      ]
     },
     "metadata": {
      "needs_background": "light"
     },
     "output_type": "display_data"
    }
   ],
   "source": [
    "import numpy as np \n",
    "import matplotlib.pyplot as plt \n",
    "from tools import bin_to_dec, dec_to_bin \n",
    "\n",
    "f = lambda x: x**(0.4) \n",
    "reduce=True\n",
    "\n",
    "n = 6\n",
    "m = 6 \n",
    "\n",
    "x = np.linspace(0,10,2**n)\n",
    "y = f(x) if reduce==False else 2*np.pi * np.array([bin_to_dec(j,nint=0,encoding=\"unsigned mag\") for j in [dec_to_bin(np.modf(i/ (2*np.pi))[0],n=m,nint=0, encoding=\"unsigned mag\") for i in f(x)] ])\n",
    "\n",
    "plt.scatter(x,y)\n",
    "plt.show()"
   ]
  },
  {
   "cell_type": "code",
   "execution_count": 20,
   "metadata": {},
   "outputs": [
    {
     "data": {
      "text/plain": [
       "0.0625"
      ]
     },
     "execution_count": 20,
     "metadata": {},
     "output_type": "execute_result"
    }
   ],
   "source": [
    "2**(-4)"
   ]
  },
  {
   "cell_type": "code",
   "execution_count": null,
   "metadata": {},
   "outputs": [],
   "source": []
  }
 ],
 "metadata": {
  "kernelspec": {
   "display_name": "Python 3",
   "language": "python",
   "name": "python3"
  },
  "language_info": {
   "codemirror_mode": {
    "name": "ipython",
    "version": 3
   },
   "file_extension": ".py",
   "mimetype": "text/x-python",
   "name": "python",
   "nbconvert_exporter": "python",
   "pygments_lexer": "ipython3",
   "version": "3.9.13"
  }
 },
 "nbformat": 4,
 "nbformat_minor": 2
}
