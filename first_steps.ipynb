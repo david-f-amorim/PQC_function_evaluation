{
 "cells": [
  {
   "cell_type": "code",
   "execution_count": 87,
   "metadata": {},
   "outputs": [
    {
     "data": {
      "text/plain": [
       "168"
      ]
     },
     "execution_count": 87,
     "metadata": {},
     "output_type": "execute_result"
    }
   ],
   "source": [
    "import numpy as np \n",
    "from ampl_tools import R_generate_network \n",
    "\n",
    "circ = R_generate_network(6,8)\n",
    "num_CX = dict(circ.decompose(reps=4).count_ops())[\"cx\"]\n",
    "num_gates = num_CX + dict(circ.decompose(reps=4).count_ops())[\"u\"]\n",
    "\n",
    "weights = np.load(\"ampl_outputs/weights_6_8_800_x76_MSE_40_168_.npy\")\n",
    "\n",
    "len(weights)\n",
    "\n",
    "num_CX"
   ]
  },
  {
   "cell_type": "code",
   "execution_count": 14,
   "metadata": {},
   "outputs": [
    {
     "data": {
      "image/png": "[encoded data removed]",
      "text/plain": [
       "<Figure size 432x288 with 1 Axes>"
      ]
     },
     "metadata": {
      "needs_background": "light"
     },
     "output_type": "display_data"
    }
   ],
   "source": [
    "\"\"\"\n",
    "DO NOT DELETE THIS !!!\n",
    "\n",
    "\"\"\"\n",
    "\n",
    "from tools import psi, bin_to_dec, dec_to_bin \n",
    "import numpy as np \n",
    "import matplotlib.pyplot as plt \n",
    "\n",
    "m =8\n",
    "\n",
    "x = np.linspace(0,2**6,100)\n",
    "y = np.array([psi(i) for i in x])\n",
    "\n",
    "y_reduced = np.modf(y / (2* np.pi))[0] \n",
    "y_reduced_bin = [dec_to_bin(i,m, \"unsigned mag\", 0) for i in y_reduced]\n",
    "y_reduced_dec =  np.array([bin_to_dec(i,\"unsigned mag\", 0) for i in y_reduced_bin])\n",
    "\n",
    "y_rounded = 2 * np.pi * y_reduced_dec\n",
    "\n",
    "plt.plot(x,y)\n",
    "plt.plot(x,y_rounded)\n",
    "plt.show()\n",
    "\n",
    "\"\"\"\n",
    "DO NOT DELETE THIS !!!\n",
    "\n",
    "\"\"\""
   ]
  },
  {
   "cell_type": "code",
   "execution_count": null,
   "metadata": {},
   "outputs": [],
   "source": []
  }
 ],
 "metadata": {
  "kernelspec": {
   "display_name": "Python 3",
   "language": "python",
   "name": "python3"
  },
  "language_info": {
   "codemirror_mode": {
    "name": "ipython",
    "version": 3
   },
   "file_extension": ".py",
   "mimetype": "text/x-python",
   "name": "python",
   "nbconvert_exporter": "python",
   "pygments_lexer": "ipython3",
   "version": "3.9.13"
  }
 },
 "nbformat": 4,
 "nbformat_minor": 2
}
