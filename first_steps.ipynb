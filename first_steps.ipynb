{
 "cells": [
  {
   "cell_type": "code",
   "execution_count": 9,
   "metadata": {},
   "outputs": [
    {
     "data": {
      "text/plain": [
       "0.3391201771109469"
      ]
     },
     "execution_count": 9,
     "metadata": {},
     "output_type": "execute_result"
    }
   ],
   "source": [
    "import numpy as np \n",
    "import matplotlib.pyplot as plt \n",
    "\n",
    "dict = np.load(\"outputs/bar_6_4(0)_6_600_psi_MM_(S)(PR)(r).npy\",allow_pickle='TRUE').item()\n",
    "dict = list(dict.values())\n",
    "\n",
    "np.std(dict)"
   ]
  },
  {
   "cell_type": "code",
   "execution_count": 31,
   "metadata": {},
   "outputs": [
    {
     "name": "stdout",
     "output_type": "stream",
     "text": [
      "AA CL\n",
      "NN CL\n",
      "IL (shift=1; ctrl=0)\n",
      "IL (shift=4; ctrl=1)\n",
      "AA CL\n",
      "NN CL\n",
      "IL (shift=2; ctrl=1)\n",
      "IL (shift=5; ctrl=0)\n",
      "AA CL\n",
      "NN CL\n",
      "IL (shift=3; ctrl=0)\n"
     ]
    }
   ],
   "source": [
    "import numpy as np \n",
    "\n",
    "L =9 \n",
    "m =6\n",
    "toggle_IL = True \n",
    "\n",
    "for i in np.arange(L):\n",
    "\n",
    "        if toggle_IL==False:\n",
    "\n",
    "            if i % 2 ==0:\n",
    "                print(\"AA CL\")\n",
    "            elif i % 2 ==1:\n",
    "                print(\"NN CL\")\n",
    "        \n",
    "        if toggle_IL==True:\n",
    "\n",
    "            # difference between number of input layers and number of target qubits:\n",
    "            del_IL = m - (1+ L //3) \n",
    "\n",
    "            if del_IL <= 0:\n",
    "                if i % 3 ==0:\n",
    "                    print(\"AA CL\")\n",
    "                elif i % 3 ==1:\n",
    "                   print(\"NN CL\")\n",
    "                elif i % 3 ==2:\n",
    "                    # alternate between layers with control states 0 and 1 and add shifts\n",
    "                    print(f\"IL (shift={i//3 +1}; ctrl={i %2})\")\n",
    "            else: \n",
    "                if i % 3 ==0:\n",
    "                     print(\"AA CL\")\n",
    "                elif i % 3 ==1:\n",
    "                      print(\"NN CL\")\n",
    "                elif i % 3 ==2:\n",
    "                    for j in np.arange(del_IL // (L //3) +2):\n",
    "                        shift = (i // 3) +1 + j * (L //3)\n",
    "                        #print(shift)\n",
    "                        if shift <= m-1:\n",
    "                            print(f\"IL (shift={shift}; ctrl={(shift-1) %2})\")\n"
   ]
  },
  {
   "cell_type": "code",
   "execution_count": null,
   "metadata": {},
   "outputs": [],
   "source": []
  }
 ],
 "metadata": {
  "kernelspec": {
   "display_name": "Python 3",
   "language": "python",
   "name": "python3"
  },
  "language_info": {
   "codemirror_mode": {
    "name": "ipython",
    "version": 3
   },
   "file_extension": ".py",
   "mimetype": "text/x-python",
   "name": "python",
   "nbconvert_exporter": "python",
   "pygments_lexer": "ipython3",
   "version": "3.9.13"
  }
 },
 "nbformat": 4,
 "nbformat_minor": 2
}
