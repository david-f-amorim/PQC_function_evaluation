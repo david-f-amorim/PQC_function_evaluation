{
 "cells": [
  {
   "cell_type": "code",
   "execution_count": 10,
   "metadata": {},
   "outputs": [
    {
     "name": "stdout",
     "output_type": "stream",
     "text": [
      "        ┌────────────────┐┌─────┐         ┌──────┐┌─────┐         ┌──────┐»\n",
      "  qx_0: ┤0               ├┤0    ├─────────┤0     ├┤0    ├─────────┤0     ├»\n",
      "        │                ││     │         │      ││     │         │      │»\n",
      "  qx_1: ┤1 bin_to_qubits ├┤1    ├─────────┤1     ├┤1    ├─────────┤1     ├»\n",
      "        │                ││     │         │      ││     │         │      │»\n",
      "  qx_2: ┤2               ├┤2    ├─────────┤2     ├┤2    ├─────────┤2     ├»\n",
      "        └────────────────┘│  P0 │         │  P0† ││  P1 │         │  P1† │»\n",
      "qanc_0: ──────────────────┤3    ├─────────┤3     ├┤3    ├─────────┤3     ├»\n",
      "                          │     │         │      ││     │         │      │»\n",
      "qanc_1: ──────────────────┤4    ├─────────┤4     ├┤4    ├─────────┤4     ├»\n",
      "                          │     │         │      ││     │         │      │»\n",
      "qanc_2: ──────────────────┤5    ├────■────┤5     ├┤5    ├────■────┤5     ├»\n",
      "              ┌───┐       └─────┘┌───┴───┐└──────┘└─────┘┌───┴───┐└──────┘»\n",
      "qanc_3: ──────┤ X ├──────────────┤0      ├───────────────┤0      ├────────»\n",
      "              └───┘              │       │               │       │        »\n",
      "qanc_4: ─────────────────────────┤1      ├───────────────┤1      ├────────»\n",
      "                                 │       │               │       │        »\n",
      "qanc_5: ─────────────────────────┤2      ├───────────────┤2      ├────────»\n",
      "                                 │  SET0 │               │  SET1 │        »\n",
      "qlab_0: ─────────────────────────┤3      ├───────────────┤3      ├────────»\n",
      "                                 │       │               │       │        »\n",
      "qlab_1: ─────────────────────────┤4      ├───────────────┤4      ├────────»\n",
      "                                 │       │               │       │        »\n",
      "qlab_2: ─────────────────────────┤5      ├───────────────┤5      ├────────»\n",
      "                                 └───────┘               └───────┘        »\n",
      "«        ┌─────┐         ┌──────┐┌─────┐         ┌──────┐┌─────┐         »\n",
      "«  qx_0: ┤0    ├─────────┤0     ├┤0    ├─────────┤0     ├┤0    ├─────────»\n",
      "«        │     │         │      ││     │         │      ││     │         »\n",
      "«  qx_1: ┤1    ├─────────┤1     ├┤1    ├─────────┤1     ├┤1    ├─────────»\n",
      "«        │     │         │      ││     │         │      ││     │         »\n",
      "«  qx_2: ┤2    ├─────────┤2     ├┤2    ├─────────┤2     ├┤2    ├─────────»\n",
      "«        │  P2 │         │  P2† ││  P3 │         │  P3† ││  P4 │         »\n",
      "«qanc_0: ┤3    ├─────────┤3     ├┤3    ├─────────┤3     ├┤3    ├─────────»\n",
      "«        │     │         │      ││     │         │      ││     │         »\n",
      "«qanc_1: ┤4    ├─────────┤4     ├┤4    ├─────────┤4     ├┤4    ├─────────»\n",
      "«        │     │         │      ││     │         │      ││     │         »\n",
      "«qanc_2: ┤5    ├────■────┤5     ├┤5    ├────■────┤5     ├┤5    ├────■────»\n",
      "«        └─────┘┌───┴───┐└──────┘└─────┘┌───┴───┐└──────┘└─────┘┌───┴───┐»\n",
      "«qanc_3: ───────┤0      ├───────────────┤0      ├───────────────┤0      ├»\n",
      "«               │       │               │       │               │       │»\n",
      "«qanc_4: ───────┤1      ├───────────────┤1      ├───────────────┤1      ├»\n",
      "«               │       │               │       │               │       │»\n",
      "«qanc_5: ───────┤2      ├───────────────┤2      ├───────────────┤2      ├»\n",
      "«               │  SET2 │               │  SET3 │               │  SET4 │»\n",
      "«qlab_0: ───────┤3      ├───────────────┤3      ├───────────────┤3      ├»\n",
      "«               │       │               │       │               │       │»\n",
      "«qlab_1: ───────┤4      ├───────────────┤4      ├───────────────┤4      ├»\n",
      "«               │       │               │       │               │       │»\n",
      "«qlab_2: ───────┤5      ├───────────────┤5      ├───────────────┤5      ├»\n",
      "«               └───────┘               └───────┘               └───────┘»\n",
      "«        ┌──────┐┌─────┐         ┌──────┐┌─────────┐\n",
      "«  qx_0: ┤0     ├┤0    ├─────────┤0     ├┤0        ├\n",
      "«        │      ││     │         │      ││         │\n",
      "«  qx_1: ┤1     ├┤1    ├─────────┤1     ├┤1        ├\n",
      "«        │      ││     │         │      ││         │\n",
      "«  qx_2: ┤2     ├┤2    ├─────────┤2     ├┤2        ├\n",
      "«        │  P4† ││  P5 │         │  P5† ││         │\n",
      "«qanc_0: ┤3     ├┤3    ├─────────┤3     ├┤6        ├\n",
      "«        │      ││     │         │      ││         │\n",
      "«qanc_1: ┤4     ├┤4    ├─────────┤4     ├┤7        ├\n",
      "«        │      ││     │         │      ││         │\n",
      "«qanc_2: ┤5     ├┤5    ├────■────┤5     ├┤8        ├\n",
      "«        └──────┘└─────┘┌───┴───┐└──────┘│   LABEL │\n",
      "«qanc_3: ───────────────┤0      ├────────┤9        ├\n",
      "«                       │       │        │         │\n",
      "«qanc_4: ───────────────┤1      ├────────┤10       ├\n",
      "«                       │       │        │         │\n",
      "«qanc_5: ───────────────┤2      ├────────┤11       ├\n",
      "«                       │  SET5 │        │         │\n",
      "«qlab_0: ───────────────┤3      ├────────┤3        ├\n",
      "«                       │       │        │         │\n",
      "«qlab_1: ───────────────┤4      ├────────┤4        ├\n",
      "«                       │       │        │         │\n",
      "«qlab_2: ───────────────┤5      ├────────┤5        ├\n",
      "«                       └───────┘        └─────────┘\n"
     ]
    },
    {
     "data": {
      "text/plain": [
       "\"\\nbackend = Aer.get_backend('aer_simulator')\\njob = execute(qc, backend, shots=10)\\n\\ncounts = job.result().get_counts()\\n\\nprint(counts)\\n\""
      ]
     },
     "execution_count": 10,
     "metadata": {},
     "output_type": "execute_result"
    }
   ],
   "source": [
    "from psi_tools import label_gate, bin_to_qubits\n",
    "from qiskit import QuantumCircuit, QuantumRegister, ClassicalRegister, Aer, execute\n",
    "\n",
    "nx =3 \n",
    "nl = nx \n",
    "na = nl + nx \n",
    "\n",
    "bin='011'\n",
    "\n",
    "bounds = [0,2,4,6,6,7] # range(2**nx-1)\n",
    "\n",
    "qx = QuantumRegister(nx, 'qx')\n",
    "qanc=QuantumRegister(na, 'qanc') \n",
    "qlabel= QuantumRegister(nl, 'qlab')\n",
    "#clab = ClassicalRegister(nl, 'clab')\n",
    "\n",
    "qc = QuantumCircuit(qx, qanc, qlabel)\n",
    "qc =qc.compose(bin_to_qubits(bin), qx)\n",
    "lab_gate = label_gate(qc,qx, qlabel, qanc, bounds)\n",
    "qc.append(lab_gate, [*qx, *qlabel, *qanc])\n",
    "\n",
    "print(qc)\n",
    "\n",
    "#qc.measure(qlabel, clab)\n",
    "\"\"\"\n",
    "backend = Aer.get_backend('aer_simulator')\n",
    "job = execute(qc, backend, shots=10)\n",
    "\n",
    "counts = job.result().get_counts()\n",
    "\n",
    "print(counts)\n",
    "\"\"\""
   ]
  },
  {
   "cell_type": "code",
   "execution_count": 61,
   "metadata": {},
   "outputs": [
    {
     "data": {
      "text/plain": [
       "range(0, 7)"
      ]
     },
     "execution_count": 61,
     "metadata": {},
     "output_type": "execute_result"
    }
   ],
   "source": [
    "range(2**nx-1)"
   ]
  },
  {
   "cell_type": "code",
   "execution_count": null,
   "metadata": {},
   "outputs": [],
   "source": []
  }
 ],
 "metadata": {
  "kernelspec": {
   "display_name": "Python 3",
   "language": "python",
   "name": "python3"
  },
  "language_info": {
   "codemirror_mode": {
    "name": "ipython",
    "version": 3
   },
   "file_extension": ".py",
   "mimetype": "text/x-python",
   "name": "python",
   "nbconvert_exporter": "python",
   "pygments_lexer": "ipython3",
   "version": "3.9.13"
  }
 },
 "nbformat": 4,
 "nbformat_minor": 2
}
