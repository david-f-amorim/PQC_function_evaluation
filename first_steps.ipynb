{
 "cells": [
  {
   "cell_type": "code",
   "execution_count": 11,
   "metadata": {},
   "outputs": [
    {
     "data": {
      "image/png": "[encoded data removed]",
      "text/plain": [
       "<Figure size 432x288 with 1 Axes>"
      ]
     },
     "metadata": {
      "needs_background": "light"
     },
     "output_type": "display_data"
    },
    {
     "data": {
      "text/plain": [
       "0.8288788440590275"
      ]
     },
     "execution_count": 11,
     "metadata": {},
     "output_type": "execute_result"
    }
   ],
   "source": [
    "import numpy as np \n",
    "import matplotlib.pyplot as plt # type: ignore \n",
    "\n",
    "arr_1d = np.zeros((100))\n",
    "\n",
    "for k in np.arange(50):\n",
    "    arr_1d[k]=1\n",
    "\n",
    "arr_1d += 0.1 * np.random.random((100))\n",
    "\n",
    "plt.plot(np.arange(100), arr_1d[:])\n",
    "plt.show()\n",
    "\n",
    "def get_Pi(arr_1d): \n",
    "    N=len(arr_1d)\n",
    "    Pi=0\n",
    "    arr_1d/=np.max(arr_1d)\n",
    "    distance=np.empty(N-1)\n",
    "    for j in np.arange(N-1):\n",
    "        distance[j]=np.abs(arr_1d[j]-arr_1d[j+1])\n",
    "    M=np.max(distance)\n",
    "    A=(np.sum(distance)-M) / (N-2) \n",
    "     \n",
    "    return M-A        \n",
    "       \n",
    "get_Pi(arr_1d)"
   ]
  },
  {
   "cell_type": "code",
   "execution_count": 1,
   "metadata": {},
   "outputs": [
    {
     "data": {
      "text/plain": [
       "0.94"
      ]
     },
     "execution_count": 1,
     "metadata": {},
     "output_type": "execute_result"
    }
   ],
   "source": [
    "from pqcprep.psi_tools import psi_linear \n",
    "\n",
    "psi_linear(2)"
   ]
  },
  {
   "cell_type": "code",
   "execution_count": 5,
   "metadata": {},
   "outputs": [
    {
     "name": "stdout",
     "output_type": "stream",
     "text": [
      "{'seed': 10, 't': 'e'}\n"
     ]
    },
    {
     "data": {
      "text/plain": [
       "'(5)'"
      ]
     },
     "execution_count": 5,
     "metadata": {},
     "output_type": "execute_result"
    }
   ],
   "source": [
    "test = {} \n",
    "test[\"seed\"] = 10 \n",
    "test[\"t\"]=\"e\"\n",
    "print(test)\n",
    "test[\"seed\"] =5\n",
    "f\"({str(test['seed'])})\""
   ]
  },
  {
   "cell_type": "code",
   "execution_count": 24,
   "metadata": {},
   "outputs": [
    {
     "name": "stdout",
     "output_type": "stream",
     "text": [
      "5\n"
     ]
    }
   ],
   "source": [
    "x= 5\n",
    "\n",
    "x=4 if 0==1 else x\n",
    "\n",
    "print(x)"
   ]
  },
  {
   "cell_type": "code",
   "execution_count": 6,
   "metadata": {},
   "outputs": [
    {
     "data": {
      "text/plain": [
       "[1, 1, 3, 4]"
      ]
     },
     "execution_count": 6,
     "metadata": {},
     "output_type": "execute_result"
    }
   ],
   "source": [
    "from qiskit import QuantumCircuit \n",
    "\n",
    "qc= QuantumCircuit(2)\n",
    "\n",
    "qc.num_qubits\n",
    "\n",
    "arr = [1,1,3,4]\n",
    "\n",
    "arr[0:len(arr)]"
   ]
  },
  {
   "cell_type": "code",
   "execution_count": 102,
   "metadata": {},
   "outputs": [
    {
     "ename": "IndentationError",
     "evalue": "unindent does not match any outer indentation level (<tokenize>, line 36)",
     "output_type": "error",
     "traceback": [
      "\u001b[1;36m  File \u001b[1;32m\"<tokenize>\"\u001b[1;36m, line \u001b[1;32m36\u001b[0m\n\u001b[1;33m    print(arr[j])\u001b[0m\n\u001b[1;37m    ^\u001b[0m\n\u001b[1;31mIndentationError\u001b[0m\u001b[1;31m:\u001b[0m unindent does not match any outer indentation level\n"
     ]
    }
   ],
   "source": [
    "import numpy as np\n",
    "import matplotlib.pyplot as plt \n",
    "\n",
    "def remove_outliers(arr, step: int, sig_mult: float, verbose: bool=True, visualise: bool=True):\n",
    "    \"\"\"\n",
    "    Remove outliers from an array `arr` by removing local minima/maxima for \n",
    "    regions (as defined by `step`) with a local standard deviation greater than \n",
    "    `sig_mul` times the (reduced) average local standard deviation. \n",
    "\n",
    "    \"\"\"\n",
    "    arr_smoothed=np.copy(arr)\n",
    "    n = len(arr) // step\n",
    "\n",
    "    sigma_arr = np.empty(len(arr))\n",
    "    \n",
    "    idx =0 \n",
    "    for i in np.arange(n):\n",
    "\n",
    "        s=len(arr)-idx if i==n-1 else step  \n",
    "        sigma_arr[idx:idx+s]=np.std(arr[idx:idx+s]) * np.ones(len(arr[idx:idx+s]))\n",
    "        idx +=s\n",
    "\n",
    "    ind=0\n",
    "    count=0 \n",
    "    for j in np.arange(len(arr)):\n",
    "       \n",
    "       jr = ind // step\n",
    "       s=len(arr)-jr if jr==n-1 else step   \n",
    "       \n",
    "       if sigma_arr[j] >= sig_mult* (np.sum(sigma_arr)-np.sum(sigma_arr[ind:ind+s]))/(len(sigma_arr)-s):\n",
    "            local_arr=arr[ind:ind+s]\n",
    "\n",
    "            x=0 \n",
    "            outlier_ind=0\n",
    "            for k in np.arange(s):\n",
    "                if np.std(np.delete(local_arr,k)) > x:\n",
    "                    x=np.std(np.delete(local_arr,k)) \n",
    "                    outlier_ind=k\n",
    "                    \n",
    "            if arr[j]==local_arr[outlier_ind]:\n",
    "                arr_smoothed[j]=arr[j-1] if j != 0 else arr[j+1]\n",
    "                count += 1\n",
    "            \n",
    "       if j ==s + ind-1:\n",
    "        ind += s\n",
    "\n",
    "    if verbose:\n",
    "        print(f\"Found and removed {count} outliers.\")\n",
    "\n",
    "    if visualise:\n",
    "        plt.figure(figsize=(10,10))\n",
    "        plt.plot(np.arange(len(arr)), arr, label=\"original\", color=\"black\")\n",
    "        plt.plot(np.arange(len(arr)), arr_smoothed, label=\"smoothed\", color=\"red\")\n",
    "        plt.legend()\n",
    "        plt.show()\n",
    "            \n",
    "    return arr_smoothed         \n",
    "\n",
    "a =np.arange(10)\n",
    "\n",
    "a[2]= 400000\n",
    "\n",
    "remove_outliers(a, 3, 5, True )       "
   ]
  },
  {
   "cell_type": "code",
   "execution_count": null,
   "metadata": {},
   "outputs": [],
   "source": []
  }
 ],
 "metadata": {
  "kernelspec": {
   "display_name": "Python 3",
   "language": "python",
   "name": "python3"
  },
  "language_info": {
   "codemirror_mode": {
    "name": "ipython",
    "version": 3
   },
   "file_extension": ".py",
   "mimetype": "text/x-python",
   "name": "python",
   "nbconvert_exporter": "python",
   "pygments_lexer": "ipython3",
   "version": "3.9.13"
  }
 },
 "nbformat": 4,
 "nbformat_minor": 2
}
